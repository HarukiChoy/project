{
 "cells": [
  {
   "cell_type": "code",
   "execution_count": null,
   "metadata": {},
   "outputs": [],
   "source": [
    "import pytesseract\n",
    "import cv2 as cv\n",
    "import matplotlib.pyplot as plt"
   ]
  },
  {
   "cell_type": "code",
   "execution_count": null,
   "metadata": {},
   "outputs": [],
   "source": [
    "def show(img):\n",
    "    rgb_img = cv.cvtColor(img, cv.COLOR_BGR2RGB)\n",
    "    plt.imshow(rgb_img)\n",
    "    plt.show()\n",
    "\n",
    "img = cv.imread('./螢幕截圖 2022-10-25 12.28.14.png')\n",
    "ocrResult = pytesseract.image_to_string('./螢幕截圖 2022-10-25 12.28.14.png')\n",
    "show(img)\n",
    "print(ocrResult)"
   ]
  },
  {
   "cell_type": "code",
   "execution_count": null,
   "metadata": {},
   "outputs": [],
   "source": [
    "img2 = cv.imread('./螢幕截圖 2022-10-25 12.36.51.png')\n",
    "gray_img2 = cv.cvtColor(img2, cv.COLOR_BGR2GRAY)\n",
    "canny_img2 = cv.Canny(gray_img2,50,100)\n",
    "contours, _ = cv.findContours(canny_img2, cv.RETR_CCOMP, cv.CHAIN_APPROX_NONE)\n",
    "contour_lists = sorted(contours, key = cv.contourArea, reverse = True)\n",
    "# c = contour_lists[0]\n",
    "\n",
    "for c in contour_lists:\n",
    "    x, y, w, h = cv.boundingRect(c)\n",
    "    receipt = img2[y: (y + h), x: (x + w)]\n",
    "    gray_receipt = cv.cvtColor(receipt, cv.COLOR_BGR2GRAY)\n",
    "    # result = pytesseract.image_to_string(gray_receipt)\n",
    "    show(gray_receipt)\n",
    "    # print(result)\n"
   ]
  }
 ],
 "metadata": {
  "kernelspec": {
   "display_name": "Python 3.10.8 64-bit",
   "language": "python",
   "name": "python3"
  },
  "language_info": {
   "codemirror_mode": {
    "name": "ipython",
    "version": 3
   },
   "file_extension": ".py",
   "mimetype": "text/x-python",
   "name": "python",
   "nbconvert_exporter": "python",
   "pygments_lexer": "ipython3",
   "version": "3.10.8"
  },
  "orig_nbformat": 4,
  "vscode": {
   "interpreter": {
    "hash": "aee8b7b246df8f9039afb4144a1f6fd8d2ca17a180786b69acc140d282b71a49"
   }
  }
 },
 "nbformat": 4,
 "nbformat_minor": 2
}
