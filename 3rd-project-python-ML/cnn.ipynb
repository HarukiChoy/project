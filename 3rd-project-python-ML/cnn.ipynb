{
 "cells": [
  {
   "cell_type": "code",
   "execution_count": 4,
   "metadata": {},
   "outputs": [],
   "source": [
    "import pandas as pd\n",
    "import numpy as np\n",
    "import matplotlib.pyplot as plt\n",
    "import os\n",
    "import tensorflow as tf\n",
    "import pathlib\n",
    "from tensorflow.keras.preprocessing import image_dataset_from_directory\n",
    "\n",
    "\n",
    "# df = pd.read_csv('final.csv')\n",
    "# X = df[df.columns[0:784]].to_numpy()\n",
    "# y = df[df.columns[-1]]\n",
    "# y = y.astype(str)"
   ]
  },
  {
   "cell_type": "code",
   "execution_count": 5,
   "metadata": {},
   "outputs": [
    {
     "name": "stdout",
     "output_type": "stream",
     "text": [
      "Found 834036 files belonging to 39 classes.\n",
      "Metal device set to: Apple M1 Max\n",
      "\n",
      "systemMemory: 32.00 GB\n",
      "maxCacheSize: 10.67 GB\n",
      "\n"
     ]
    },
    {
     "name": "stderr",
     "output_type": "stream",
     "text": [
      "2022-10-25 15:19:10.231527: I tensorflow/core/common_runtime/pluggable_device/pluggable_device_factory.cc:306] Could not identify NUMA node of platform GPU ID 0, defaulting to 0. Your kernel may not have been built with NUMA support.\n",
      "2022-10-25 15:19:10.232088: I tensorflow/core/common_runtime/pluggable_device/pluggable_device_factory.cc:272] Created TensorFlow device (/job:localhost/replica:0/task:0/device:GPU:0 with 0 MB memory) -> physical PluggableDevice (device: 0, name: METAL, pci bus id: <undefined>)\n"
     ]
    },
    {
     "name": "stdout",
     "output_type": "stream",
     "text": [
      "Found 22524 files belonging to 39 classes.\n"
     ]
    }
   ],
   "source": [
    "PATH = str(pathlib.Path().resolve())\n",
    "train_dir = os.path.join(PATH, 'Train')\n",
    "validation_dir = os.path.join(PATH, 'Validation')\n",
    "\n",
    "BATCH_SIZE = 1024\n",
    "IMG_SIZE = (28, 28)\n",
    "\n",
    "train_dataset = image_dataset_from_directory(train_dir, shuffle=True, batch_size=BATCH_SIZE, image_size=IMG_SIZE, color_mode='grayscale')\n",
    "validation_dataset = image_dataset_from_directory(validation_dir, shuffle=True, batch_size=BATCH_SIZE, image_size=IMG_SIZE, color_mode='grayscale')\n",
    "val_batches = tf.data.experimental.cardinality(validation_dataset)\n",
    "test_dataset = validation_dataset.take(val_batches // 5)\n",
    "validation_dataset = validation_dataset.skip(val_batches // 5)\n",
    "\n",
    "cnn = tf.keras.models.Sequential() \n",
    "cnn.add(tf.keras.layers.Input(shape=(28, 28, 1)))\n",
    "cnn.add(tf.keras.layers.Conv2D(32, (3,3), activation=\"relu\", input_shape=(IMG_SIZE[0], IMG_SIZE[1])))\n",
    "cnn.add(tf.keras.layers.MaxPooling2D(pool_size = (2,2)))\n",
    "cnn.add(tf.keras.layers.Conv2D(64, (3,3), padding='valid', activation='relu'))\n",
    "cnn.add(tf.keras.layers.Flatten())\n",
    "cnn.add(tf.keras.layers.Dense(activation = 'relu', units = 128))\n",
    "cnn.add(tf.keras.layers.Dense(activation = 'relu', units = 64))\n",
    "cnn.add(tf.keras.layers.Dense(activation = 'softmax', units = 39))\n",
    "cnn.compile(optimizer = 'adam', loss = 'sparse_categorical_crossentropy', metrics = ['accuracy'])\n",
    "\n",
    "checkpoint_filepath = '/tmp/checkpoint'\n",
    "model_checkpoint_callback = tf.keras.callbacks.ModelCheckpoint(\n",
    "    filepath=checkpoint_filepath,\n",
    "    save_weights_only=True,\n",
    "    monitor='val_accuracy',\n",
    "    mode='max',\n",
    "    save_best_only=True)"
   ]
  },
  {
   "cell_type": "code",
   "execution_count": 6,
   "metadata": {},
   "outputs": [
    {
     "name": "stdout",
     "output_type": "stream",
     "text": [
      "Epoch 1/15\n"
     ]
    },
    {
     "name": "stderr",
     "output_type": "stream",
     "text": [
      "2022-10-25 15:19:15.950741: W tensorflow/core/platform/profile_utils/cpu_utils.cc:128] Failed to get CPU frequency: 0 Hz\n",
      "2022-10-25 15:19:15.952205: I tensorflow/core/grappler/optimizers/custom_graph_optimizer_registry.cc:114] Plugin optimizer for device_type GPU is enabled.\n"
     ]
    },
    {
     "name": "stdout",
     "output_type": "stream",
     "text": [
      "815/815 [==============================] - ETA: 0s - loss: 0.7570 - accuracy: 0.8646"
     ]
    },
    {
     "name": "stderr",
     "output_type": "stream",
     "text": [
      "2022-10-25 15:20:05.961795: I tensorflow/core/grappler/optimizers/custom_graph_optimizer_registry.cc:114] Plugin optimizer for device_type GPU is enabled.\n"
     ]
    },
    {
     "name": "stdout",
     "output_type": "stream",
     "text": [
      "815/815 [==============================] - 52s 59ms/step - loss: 0.7570 - accuracy: 0.8646 - val_loss: 0.2663 - val_accuracy: 0.9209\n",
      "Epoch 2/15\n",
      "815/815 [==============================] - 49s 60ms/step - loss: 0.1974 - accuracy: 0.9348 - val_loss: 0.2294 - val_accuracy: 0.9316\n",
      "Epoch 3/15\n",
      "815/815 [==============================] - 51s 62ms/step - loss: 0.1729 - accuracy: 0.9417 - val_loss: 0.2278 - val_accuracy: 0.9295\n",
      "Epoch 4/15\n",
      "815/815 [==============================] - 50s 61ms/step - loss: 0.1582 - accuracy: 0.9460 - val_loss: 0.2213 - val_accuracy: 0.9328\n",
      "Epoch 5/15\n",
      "815/815 [==============================] - 52s 63ms/step - loss: 0.1477 - accuracy: 0.9488 - val_loss: 0.2149 - val_accuracy: 0.9324\n",
      "Epoch 6/15\n",
      "815/815 [==============================] - 50s 61ms/step - loss: 0.1393 - accuracy: 0.9511 - val_loss: 0.2185 - val_accuracy: 0.9342\n",
      "Epoch 7/15\n",
      "815/815 [==============================] - 52s 64ms/step - loss: 0.1326 - accuracy: 0.9529 - val_loss: 0.2266 - val_accuracy: 0.9315\n",
      "Epoch 8/15\n",
      "815/815 [==============================] - 51s 62ms/step - loss: 0.1253 - accuracy: 0.9551 - val_loss: 0.2215 - val_accuracy: 0.9374\n",
      "Epoch 9/15\n",
      "815/815 [==============================] - 51s 62ms/step - loss: 0.1199 - accuracy: 0.9566 - val_loss: 0.2179 - val_accuracy: 0.9401\n",
      "Epoch 10/15\n",
      "815/815 [==============================] - 52s 63ms/step - loss: 0.1142 - accuracy: 0.9581 - val_loss: 0.2330 - val_accuracy: 0.9384\n",
      "Epoch 11/15\n",
      "815/815 [==============================] - 51s 62ms/step - loss: 0.1083 - accuracy: 0.9601 - val_loss: 0.2560 - val_accuracy: 0.9304\n",
      "Epoch 12/15\n",
      "815/815 [==============================] - 52s 63ms/step - loss: 0.1047 - accuracy: 0.9612 - val_loss: 0.2512 - val_accuracy: 0.9394\n",
      "Epoch 13/15\n",
      "815/815 [==============================] - 51s 62ms/step - loss: 0.1001 - accuracy: 0.9624 - val_loss: 0.2637 - val_accuracy: 0.9392\n",
      "Epoch 14/15\n",
      "815/815 [==============================] - 50s 61ms/step - loss: 0.0959 - accuracy: 0.9636 - val_loss: 0.2568 - val_accuracy: 0.9407\n",
      "Epoch 15/15\n",
      "815/815 [==============================] - 52s 63ms/step - loss: 0.0912 - accuracy: 0.9656 - val_loss: 0.2626 - val_accuracy: 0.9398\n"
     ]
    },
    {
     "data": {
      "text/plain": [
       "<keras.callbacks.History at 0x280ac35b0>"
      ]
     },
     "execution_count": 6,
     "metadata": {},
     "output_type": "execute_result"
    }
   ],
   "source": [
    "cnn.fit(train_dataset, epochs = 15, validation_data = validation_dataset, callbacks=[model_checkpoint_callback])"
   ]
  },
  {
   "cell_type": "code",
   "execution_count": 7,
   "metadata": {},
   "outputs": [],
   "source": [
    "cnn.save('recognition.h5')"
   ]
  },
  {
   "cell_type": "code",
   "execution_count": 8,
   "metadata": {},
   "outputs": [],
   "source": [
    "model_json = cnn.to_json()\n",
    "with open(\"model.json\", \"w\") as json_file:\n",
    "    json_file.write(model_json)\n",
    "# serialize weights to HDF5\n",
    "cnn.save_weights(\"model.h5\")"
   ]
  },
  {
   "cell_type": "code",
   "execution_count": 9,
   "metadata": {},
   "outputs": [
    {
     "name": "stdout",
     "output_type": "stream",
     "text": [
      "Total class number: 39\n",
      "All Label: ['#', '$', '&', '0', '1', '2', '3', '4', '5', '6', '7', '8', '9', '@', 'A', 'B', 'C', 'D', 'E', 'F', 'G', 'H', 'I', 'J', 'K', 'L', 'M', 'N', 'P', 'Q', 'R', 'S', 'T', 'U', 'V', 'W', 'X', 'Y', 'Z']\n"
     ]
    }
   ],
   "source": [
    "class_name = len(train_dataset.class_names)\n",
    "class_arr = train_dataset.class_names\n",
    "print(\"Total class number: {}\".format(class_name))\n",
    "print(\"All Label: {}\".format(class_arr))"
   ]
  },
  {
   "cell_type": "code",
   "execution_count": 10,
   "metadata": {},
   "outputs": [
    {
     "name": "stdout",
     "output_type": "stream",
     "text": [
      "4/4 [==============================] - 0s 43ms/step - loss: 0.2804 - accuracy: 0.9407\n"
     ]
    }
   ],
   "source": [
    "test_acc = cnn.evaluate(test_dataset)"
   ]
  },
  {
   "cell_type": "code",
   "execution_count": 12,
   "metadata": {},
   "outputs": [
    {
     "name": "stderr",
     "output_type": "stream",
     "text": [
      "2022-10-25 17:08:54.957143: I tensorflow/core/grappler/optimizers/custom_graph_optimizer_registry.cc:114] Plugin optimizer for device_type GPU is enabled.\n"
     ]
    },
    {
     "name": "stdout",
     "output_type": "stream",
     "text": [
      "1/1 [==============================] - 1s 621ms/step\n",
      "This is the index of prediction: 18\n",
      "The correct answer is: E\n"
     ]
    },
    {
     "data": {
      "image/png": "[encoded data removed]",
      "text/plain": [
       "<Figure size 640x480 with 1 Axes>"
      ]
     },
     "metadata": {},
     "output_type": "display_data"
    }
   ],
   "source": [
    "path = './G.jpg'\n",
    "\n",
    "img_data = tf.keras.utils.load_img(\n",
    "    path,\n",
    "    color_mode='grayscale',\n",
    "    target_size=(28, 28),\n",
    "    interpolation='nearest',\n",
    "    keep_aspect_ratio=True\n",
    ")\n",
    "plt.imshow(img_data)\n",
    "\n",
    "array = tf.keras.preprocessing.image.img_to_array(img_data)\n",
    "array = np.array([array])\n",
    "\n",
    "predictions = cnn.predict(array)\n",
    "prediction = predictions.argmax()\n",
    "print('This is the index of prediction:', prediction)\n",
    "print('The correct answer is:', class_arr[prediction])"
   ]
  },
  {
   "cell_type": "code",
   "execution_count": 172,
   "metadata": {},
   "outputs": [
    {
     "name": "stdout",
     "output_type": "stream",
     "text": [
      "1/1 [==============================] - 0s 14ms/step\n",
      "This is the index of prediction: 7\n",
      "The correct answer is: 4\n"
     ]
    }
   ],
   "source": [
    "import cv2 as cv\n",
    "\n",
    "file = './G.jpg'\n",
    "img = cv.imread(file, cv.IMREAD_GRAYSCALE)\n",
    "new_img = cv.resize(img, (28, 28), interpolation = cv.INTER_AREA)\n",
    "# np_img = np.array(new_img)\n",
    "\n",
    "array = np.array([new_img])\n",
    "predictions = cnn.predict(array)\n",
    "prediction = predictions.argmax()\n",
    "print('This is the index of prediction:', prediction)\n",
    "print('The correct answer is:', class_arr[prediction])"
   ]
  },
  {
   "cell_type": "code",
   "execution_count": 1,
   "metadata": {},
   "outputs": [
    {
     "ename": "OSError",
     "evalue": "No file or directory found at ./recognition_v6.h5",
     "output_type": "error",
     "traceback": [
      "\u001b[0;31m---------------------------------------------------------------------------\u001b[0m",
      "\u001b[0;31mOSError\u001b[0m                                   Traceback (most recent call last)",
      "Cell \u001b[0;32mIn [1], line 3\u001b[0m\n\u001b[1;32m      1\u001b[0m \u001b[39mimport\u001b[39;00m \u001b[39mtensorflow\u001b[39;00m \u001b[39mas\u001b[39;00m \u001b[39mtf\u001b[39;00m\n\u001b[0;32m----> 3\u001b[0m cnn_mod \u001b[39m=\u001b[39m tf\u001b[39m.\u001b[39;49mkeras\u001b[39m.\u001b[39;49mmodels\u001b[39m.\u001b[39;49mload_model(\u001b[39m'\u001b[39;49m\u001b[39m./recognition_v6.h5\u001b[39;49m\u001b[39m'\u001b[39;49m)\n",
      "File \u001b[0;32m~/miniforge3/lib/python3.10/site-packages/keras/utils/traceback_utils.py:70\u001b[0m, in \u001b[0;36mfilter_traceback.<locals>.error_handler\u001b[0;34m(*args, **kwargs)\u001b[0m\n\u001b[1;32m     67\u001b[0m     filtered_tb \u001b[39m=\u001b[39m _process_traceback_frames(e\u001b[39m.\u001b[39m__traceback__)\n\u001b[1;32m     68\u001b[0m     \u001b[39m# To get the full stack trace, call:\u001b[39;00m\n\u001b[1;32m     69\u001b[0m     \u001b[39m# `tf.debugging.disable_traceback_filtering()`\u001b[39;00m\n\u001b[0;32m---> 70\u001b[0m     \u001b[39mraise\u001b[39;00m e\u001b[39m.\u001b[39mwith_traceback(filtered_tb) \u001b[39mfrom\u001b[39;00m \u001b[39mNone\u001b[39m\n\u001b[1;32m     71\u001b[0m \u001b[39mfinally\u001b[39;00m:\n\u001b[1;32m     72\u001b[0m     \u001b[39mdel\u001b[39;00m filtered_tb\n",
      "File \u001b[0;32m~/miniforge3/lib/python3.10/site-packages/keras/saving/save.py:226\u001b[0m, in \u001b[0;36mload_model\u001b[0;34m(filepath, custom_objects, compile, options)\u001b[0m\n\u001b[1;32m    224\u001b[0m \u001b[39mif\u001b[39;00m \u001b[39misinstance\u001b[39m(filepath_str, \u001b[39mstr\u001b[39m):\n\u001b[1;32m    225\u001b[0m     \u001b[39mif\u001b[39;00m \u001b[39mnot\u001b[39;00m tf\u001b[39m.\u001b[39mio\u001b[39m.\u001b[39mgfile\u001b[39m.\u001b[39mexists(filepath_str):\n\u001b[0;32m--> 226\u001b[0m         \u001b[39mraise\u001b[39;00m \u001b[39mIOError\u001b[39;00m(\n\u001b[1;32m    227\u001b[0m             \u001b[39mf\u001b[39m\u001b[39m\"\u001b[39m\u001b[39mNo file or directory found at \u001b[39m\u001b[39m{\u001b[39;00mfilepath_str\u001b[39m}\u001b[39;00m\u001b[39m\"\u001b[39m\n\u001b[1;32m    228\u001b[0m         )\n\u001b[1;32m    230\u001b[0m     \u001b[39mif\u001b[39;00m tf\u001b[39m.\u001b[39mio\u001b[39m.\u001b[39mgfile\u001b[39m.\u001b[39misdir(filepath_str):\n\u001b[1;32m    231\u001b[0m         \u001b[39mreturn\u001b[39;00m saved_model_load\u001b[39m.\u001b[39mload(\n\u001b[1;32m    232\u001b[0m             filepath_str, \u001b[39mcompile\u001b[39m, options\n\u001b[1;32m    233\u001b[0m         )\n",
      "\u001b[0;31mOSError\u001b[0m: No file or directory found at ./recognition_v6.h5"
     ]
    }
   ],
   "source": [
    "import tensorflow as tf\n",
    "\n",
    "cnn_mod = tf.keras.models.load_model('')"
   ]
  },
  {
   "cell_type": "code",
   "execution_count": 189,
   "metadata": {},
   "outputs": [
    {
     "name": "stdout",
     "output_type": "stream",
     "text": [
      "1/1 [==============================] - 0s 14ms/step\n",
      "This is the index of prediction: 12\n",
      "The correct answer is: 9\n"
     ]
    }
   ],
   "source": [
    "import cv2 as cv\n",
    "import matplotlib.pyplot as plt\n",
    "\n",
    "file = './G.jpg'\n",
    "img = cv.imread(file)\n",
    "ret, output = cv.threshold(img, 127, 255, cv.THRESH_BINARY)\n",
    "output = cv.cvtColor(output, cv.COLOR_BGR2GRAY)\n",
    "new_img = cv.resize(output, (28, 28), interpolation = cv.INTER_AREA)\n",
    "# np_img = np.array(new_img)\n",
    "\n",
    "\n",
    "array = np.array([new_img])\n",
    "predictions = cnn_model.predict(array)\n",
    "prediction = predictions.argmax()\n",
    "print('This is the index of prediction:', prediction)\n",
    "print('The correct answer is:', class_arr[prediction])"
   ]
  },
  {
   "cell_type": "code",
   "execution_count": null,
   "metadata": {},
   "outputs": [],
   "source": []
  }
 ],
 "metadata": {
  "kernelspec": {
   "display_name": "Python 3.10.6 64-bit ('base')",
   "language": "python",
   "name": "python3"
  },
  "language_info": {
   "codemirror_mode": {
    "name": "ipython",
    "version": 3
   },
   "file_extension": ".py",
   "mimetype": "text/x-python",
   "name": "python",
   "nbconvert_exporter": "python",
   "pygments_lexer": "ipython3",
   "version": "3.10.6"
  },
  "orig_nbformat": 4,
  "vscode": {
   "interpreter": {
    "hash": "29093b8d7fdc9c9cc281817a37219a88a604442368efe22e0596df777f5cfc01"
   }
  }
 },
 "nbformat": 4,
 "nbformat_minor": 2
}
