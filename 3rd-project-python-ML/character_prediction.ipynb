{
 "cells": [
  {
   "cell_type": "code",
   "execution_count": 6,
   "metadata": {},
   "outputs": [],
   "source": [
    "import tensorflow as tf\n",
    "import numpy as np\n",
    "import matplotlib.pyplot as plt\n",
    "import cv2 as cv\n",
    "import pandas as pd\n",
    "import os"
   ]
  },
  {
   "cell_type": "code",
   "execution_count": 7,
   "metadata": {},
   "outputs": [
    {
     "name": "stderr",
     "output_type": "stream",
     "text": [
      "2022-10-25 17:26:11.222899: I tensorflow/core/common_runtime/pluggable_device/pluggable_device_factory.cc:306] Could not identify NUMA node of platform GPU ID 0, defaulting to 0. Your kernel may not have been built with NUMA support.\n",
      "2022-10-25 17:26:11.223241: I tensorflow/core/common_runtime/pluggable_device/pluggable_device_factory.cc:272] Created TensorFlow device (/job:localhost/replica:0/task:0/device:GPU:0 with 0 MB memory) -> physical PluggableDevice (device: 0, name: METAL, pci bus id: <undefined>)\n"
     ]
    },
    {
     "name": "stdout",
     "output_type": "stream",
     "text": [
      "Metal device set to: Apple M1\n",
      "\n",
      "systemMemory: 8.00 GB\n",
      "maxCacheSize: 2.67 GB\n",
      "\n"
     ]
    }
   ],
   "source": [
    "cnn = tf.keras.models.load_model('recognition.h5')\n",
    "\n",
    "class_names = ['#', '$', '&', '0', '1', '2', '3', '4', '5', '6', '7', '8', '9', '@', 'A', 'B', 'C', 'D', 'E', 'F', 'G', 'H', 'I', 'J', 'K', 'L', 'M', 'N', 'P', 'Q', 'R', 'S', 'T', 'U', 'V', 'W', 'X', 'Y', 'Z']"
   ]
  },
  {
   "cell_type": "code",
   "execution_count": 17,
   "metadata": {},
   "outputs": [
    {
     "name": "stdout",
     "output_type": "stream",
     "text": [
      "['exp4', 'exp5']\n",
      "exp4\n",
      "['crops', 'val_batch0_pred.jpg']\n",
      "crops\n"
     ]
    },
    {
     "ename": "NotADirectoryError",
     "evalue": "[Errno 20] Not a directory: './runs/detect/exp4/crops/Text/val_batch0_pred2.jpg'",
     "output_type": "error",
     "traceback": [
      "\u001b[0;31m---------------------------------------------------------------------------\u001b[0m",
      "\u001b[0;31mNotADirectoryError\u001b[0m                        Traceback (most recent call last)",
      "Cell \u001b[0;32mIn [17], line 10\u001b[0m\n\u001b[1;32m      8\u001b[0m \u001b[39mprint\u001b[39m(file)\n\u001b[1;32m      9\u001b[0m images_path \u001b[39m=\u001b[39m \u001b[39m'\u001b[39m\u001b[39m./runs/detect/\u001b[39m\u001b[39m'\u001b[39m \u001b[39m+\u001b[39m folder \u001b[39m+\u001b[39m \u001b[39m'\u001b[39m\u001b[39m/crops/Text/\u001b[39m\u001b[39m'\u001b[39m\n\u001b[0;32m---> 10\u001b[0m images \u001b[39m=\u001b[39m os\u001b[39m.\u001b[39;49mlistdir(path)\n\u001b[1;32m     11\u001b[0m \u001b[39mprint\u001b[39m(images)\n\u001b[1;32m     12\u001b[0m \u001b[39mfor\u001b[39;00m image \u001b[39min\u001b[39;00m images:\n",
      "\u001b[0;31mNotADirectoryError\u001b[0m: [Errno 20] Not a directory: './runs/detect/exp4/crops/Text/val_batch0_pred2.jpg'"
     ]
    }
   ],
   "source": [
    "folders = os.listdir('./runs/detect/')\n",
    "print(folders)\n",
    "for folder in folders:\n",
    "    print(folder)\n",
    "    files = os.listdir('./runs/detect/' + folder)\n",
    "    print(files)\n",
    "    for file in files:\n",
    "        print(file)\n",
    "        images_path = './runs/detect/' + folder + '/crops/Text/'\n",
    "        images = os.listdir(path)\n",
    "        print(images)\n",
    "        for image in images:\n",
    "            path = images_path + image\n",
    "            img_data = tf.keras.utils.load_img(\n",
    "                path,\n",
    "                color_mode='grayscale',\n",
    "                target_size=(28, 28),\n",
    "                interpolation='nearest',\n",
    "                keep_aspect_ratio=True\n",
    "            )\n",
    "            plt.imshow(img_data)\n",
    "\n",
    "            array = tf.keras.preprocessing.image.img_to_array(img_data)\n",
    "            array = np.array([array])\n",
    "\n",
    "            predictions = cnn.predict(array)\n",
    "            prediction = predictions.argmax()\n",
    "            print('This is the index of prediction:', prediction)\n",
    "            print('The correct answer is:', class_names[prediction])"
   ]
  }
 ],
 "metadata": {
  "kernelspec": {
   "display_name": "Python 3.10.6 ('base')",
   "language": "python",
   "name": "python3"
  },
  "language_info": {
   "codemirror_mode": {
    "name": "ipython",
    "version": 3
   },
   "file_extension": ".py",
   "mimetype": "text/x-python",
   "name": "python",
   "nbconvert_exporter": "python",
   "pygments_lexer": "ipython3",
   "version": "3.10.6"
  },
  "orig_nbformat": 4,
  "vscode": {
   "interpreter": {
    "hash": "97da82778f5513741e148656cb79e23e7c24a11bdfbe39c4243b9a459a4b8c95"
   }
  }
 },
 "nbformat": 4,
 "nbformat_minor": 2
}
