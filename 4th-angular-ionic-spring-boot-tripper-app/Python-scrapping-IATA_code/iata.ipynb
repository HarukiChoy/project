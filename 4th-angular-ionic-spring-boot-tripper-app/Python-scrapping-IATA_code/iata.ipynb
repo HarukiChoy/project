{
 "cells": [
  {
   "cell_type": "code",
   "execution_count": 1,
   "metadata": {},
   "outputs": [],
   "source": [
    "from selenium import webdriver\n",
    "from selenium.webdriver.chrome.options import Options\n",
    "from selenium.webdriver.common.alert import Alert\n",
    "from webdriver_manager.chrome import ChromeDriverManager\n",
    "import time\n",
    "import numpy as np\n",
    "import pandas as pd"
   ]
  },
  {
   "cell_type": "code",
   "execution_count": 2,
   "metadata": {},
   "outputs": [],
   "source": [
    "options = Options()\n",
    "options.add_argument(\"--disable-notifications\")"
   ]
  },
  {
   "cell_type": "code",
   "execution_count": 238,
   "metadata": {},
   "outputs": [
    {
     "name": "stderr",
     "output_type": "stream",
     "text": [
      "/var/folders/xh/d5hq3zgj0w7c6h9m2fmmx1gw0000gn/T/ipykernel_21445/3733334637.py:5: DeprecationWarning: executable_path has been deprecated, please pass in a Service object\n",
      "  chrome = webdriver.Chrome(ChromeDriverManager().install(), chrome_options=options)\n",
      "/var/folders/xh/d5hq3zgj0w7c6h9m2fmmx1gw0000gn/T/ipykernel_21445/3733334637.py:5: DeprecationWarning: use options instead of chrome_options\n",
      "  chrome = webdriver.Chrome(ChromeDriverManager().install(), chrome_options=options)\n"
     ]
    },
    {
     "name": "stdout",
     "output_type": "stream",
     "text": [
      "A : (552, 6)\n"
     ]
    },
    {
     "name": "stderr",
     "output_type": "stream",
     "text": [
      "/var/folders/xh/d5hq3zgj0w7c6h9m2fmmx1gw0000gn/T/ipykernel_21445/3733334637.py:5: DeprecationWarning: executable_path has been deprecated, please pass in a Service object\n",
      "  chrome = webdriver.Chrome(ChromeDriverManager().install(), chrome_options=options)\n",
      "/var/folders/xh/d5hq3zgj0w7c6h9m2fmmx1gw0000gn/T/ipykernel_21445/3733334637.py:5: DeprecationWarning: use options instead of chrome_options\n",
      "  chrome = webdriver.Chrome(ChromeDriverManager().install(), chrome_options=options)\n"
     ]
    },
    {
     "name": "stdout",
     "output_type": "stream",
     "text": [
      "B : (641, 6)\n"
     ]
    },
    {
     "name": "stderr",
     "output_type": "stream",
     "text": [
      "/var/folders/xh/d5hq3zgj0w7c6h9m2fmmx1gw0000gn/T/ipykernel_21445/3733334637.py:5: DeprecationWarning: executable_path has been deprecated, please pass in a Service object\n",
      "  chrome = webdriver.Chrome(ChromeDriverManager().install(), chrome_options=options)\n",
      "/var/folders/xh/d5hq3zgj0w7c6h9m2fmmx1gw0000gn/T/ipykernel_21445/3733334637.py:5: DeprecationWarning: use options instead of chrome_options\n",
      "  chrome = webdriver.Chrome(ChromeDriverManager().install(), chrome_options=options)\n"
     ]
    },
    {
     "name": "stdout",
     "output_type": "stream",
     "text": [
      "C : (571, 6)\n"
     ]
    },
    {
     "name": "stderr",
     "output_type": "stream",
     "text": [
      "/var/folders/xh/d5hq3zgj0w7c6h9m2fmmx1gw0000gn/T/ipykernel_21445/3733334637.py:5: DeprecationWarning: executable_path has been deprecated, please pass in a Service object\n",
      "  chrome = webdriver.Chrome(ChromeDriverManager().install(), chrome_options=options)\n",
      "/var/folders/xh/d5hq3zgj0w7c6h9m2fmmx1gw0000gn/T/ipykernel_21445/3733334637.py:5: DeprecationWarning: use options instead of chrome_options\n",
      "  chrome = webdriver.Chrome(ChromeDriverManager().install(), chrome_options=options)\n"
     ]
    },
    {
     "name": "stdout",
     "output_type": "stream",
     "text": [
      "D : (332, 6)\n"
     ]
    },
    {
     "name": "stderr",
     "output_type": "stream",
     "text": [
      "/var/folders/xh/d5hq3zgj0w7c6h9m2fmmx1gw0000gn/T/ipykernel_21445/3733334637.py:5: DeprecationWarning: executable_path has been deprecated, please pass in a Service object\n",
      "  chrome = webdriver.Chrome(ChromeDriverManager().install(), chrome_options=options)\n",
      "/var/folders/xh/d5hq3zgj0w7c6h9m2fmmx1gw0000gn/T/ipykernel_21445/3733334637.py:5: DeprecationWarning: use options instead of chrome_options\n",
      "  chrome = webdriver.Chrome(ChromeDriverManager().install(), chrome_options=options)\n"
     ]
    },
    {
     "name": "stdout",
     "output_type": "stream",
     "text": [
      "E : (280, 6)\n"
     ]
    },
    {
     "name": "stderr",
     "output_type": "stream",
     "text": [
      "/var/folders/xh/d5hq3zgj0w7c6h9m2fmmx1gw0000gn/T/ipykernel_21445/3733334637.py:5: DeprecationWarning: executable_path has been deprecated, please pass in a Service object\n",
      "  chrome = webdriver.Chrome(ChromeDriverManager().install(), chrome_options=options)\n",
      "/var/folders/xh/d5hq3zgj0w7c6h9m2fmmx1gw0000gn/T/ipykernel_21445/3733334637.py:5: DeprecationWarning: use options instead of chrome_options\n",
      "  chrome = webdriver.Chrome(ChromeDriverManager().install(), chrome_options=options)\n"
     ]
    },
    {
     "name": "stdout",
     "output_type": "stream",
     "text": [
      "F : (236, 6)\n"
     ]
    },
    {
     "name": "stderr",
     "output_type": "stream",
     "text": [
      "/var/folders/xh/d5hq3zgj0w7c6h9m2fmmx1gw0000gn/T/ipykernel_21445/3733334637.py:5: DeprecationWarning: executable_path has been deprecated, please pass in a Service object\n",
      "  chrome = webdriver.Chrome(ChromeDriverManager().install(), chrome_options=options)\n",
      "/var/folders/xh/d5hq3zgj0w7c6h9m2fmmx1gw0000gn/T/ipykernel_21445/3733334637.py:5: DeprecationWarning: use options instead of chrome_options\n",
      "  chrome = webdriver.Chrome(ChromeDriverManager().install(), chrome_options=options)\n"
     ]
    },
    {
     "name": "stdout",
     "output_type": "stream",
     "text": [
      "G : (397, 6)\n"
     ]
    },
    {
     "name": "stderr",
     "output_type": "stream",
     "text": [
      "/var/folders/xh/d5hq3zgj0w7c6h9m2fmmx1gw0000gn/T/ipykernel_21445/3733334637.py:5: DeprecationWarning: executable_path has been deprecated, please pass in a Service object\n",
      "  chrome = webdriver.Chrome(ChromeDriverManager().install(), chrome_options=options)\n",
      "/var/folders/xh/d5hq3zgj0w7c6h9m2fmmx1gw0000gn/T/ipykernel_21445/3733334637.py:5: DeprecationWarning: use options instead of chrome_options\n",
      "  chrome = webdriver.Chrome(ChromeDriverManager().install(), chrome_options=options)\n"
     ]
    },
    {
     "name": "stdout",
     "output_type": "stream",
     "text": [
      "H : (327, 6)\n"
     ]
    },
    {
     "name": "stderr",
     "output_type": "stream",
     "text": [
      "/var/folders/xh/d5hq3zgj0w7c6h9m2fmmx1gw0000gn/T/ipykernel_21445/3733334637.py:5: DeprecationWarning: executable_path has been deprecated, please pass in a Service object\n",
      "  chrome = webdriver.Chrome(ChromeDriverManager().install(), chrome_options=options)\n",
      "/var/folders/xh/d5hq3zgj0w7c6h9m2fmmx1gw0000gn/T/ipykernel_21445/3733334637.py:5: DeprecationWarning: use options instead of chrome_options\n",
      "  chrome = webdriver.Chrome(ChromeDriverManager().install(), chrome_options=options)\n"
     ]
    },
    {
     "name": "stdout",
     "output_type": "stream",
     "text": [
      "I : (293, 6)\n"
     ]
    },
    {
     "name": "stderr",
     "output_type": "stream",
     "text": [
      "/var/folders/xh/d5hq3zgj0w7c6h9m2fmmx1gw0000gn/T/ipykernel_21445/3733334637.py:5: DeprecationWarning: executable_path has been deprecated, please pass in a Service object\n",
      "  chrome = webdriver.Chrome(ChromeDriverManager().install(), chrome_options=options)\n",
      "/var/folders/xh/d5hq3zgj0w7c6h9m2fmmx1gw0000gn/T/ipykernel_21445/3733334637.py:5: DeprecationWarning: use options instead of chrome_options\n",
      "  chrome = webdriver.Chrome(ChromeDriverManager().install(), chrome_options=options)\n"
     ]
    },
    {
     "name": "stdout",
     "output_type": "stream",
     "text": [
      "J : (190, 6)\n"
     ]
    },
    {
     "name": "stderr",
     "output_type": "stream",
     "text": [
      "/var/folders/xh/d5hq3zgj0w7c6h9m2fmmx1gw0000gn/T/ipykernel_21445/3733334637.py:5: DeprecationWarning: executable_path has been deprecated, please pass in a Service object\n",
      "  chrome = webdriver.Chrome(ChromeDriverManager().install(), chrome_options=options)\n",
      "/var/folders/xh/d5hq3zgj0w7c6h9m2fmmx1gw0000gn/T/ipykernel_21445/3733334637.py:5: DeprecationWarning: use options instead of chrome_options\n",
      "  chrome = webdriver.Chrome(ChromeDriverManager().install(), chrome_options=options)\n"
     ]
    },
    {
     "name": "stdout",
     "output_type": "stream",
     "text": [
      "K : (535, 7)\n"
     ]
    },
    {
     "name": "stderr",
     "output_type": "stream",
     "text": [
      "/var/folders/xh/d5hq3zgj0w7c6h9m2fmmx1gw0000gn/T/ipykernel_21445/3733334637.py:5: DeprecationWarning: executable_path has been deprecated, please pass in a Service object\n",
      "  chrome = webdriver.Chrome(ChromeDriverManager().install(), chrome_options=options)\n",
      "/var/folders/xh/d5hq3zgj0w7c6h9m2fmmx1gw0000gn/T/ipykernel_21445/3733334637.py:5: DeprecationWarning: use options instead of chrome_options\n",
      "  chrome = webdriver.Chrome(ChromeDriverManager().install(), chrome_options=options)\n"
     ]
    },
    {
     "name": "stdout",
     "output_type": "stream",
     "text": [
      "L : (489, 6)\n"
     ]
    },
    {
     "name": "stderr",
     "output_type": "stream",
     "text": [
      "/var/folders/xh/d5hq3zgj0w7c6h9m2fmmx1gw0000gn/T/ipykernel_21445/3733334637.py:5: DeprecationWarning: executable_path has been deprecated, please pass in a Service object\n",
      "  chrome = webdriver.Chrome(ChromeDriverManager().install(), chrome_options=options)\n",
      "/var/folders/xh/d5hq3zgj0w7c6h9m2fmmx1gw0000gn/T/ipykernel_21445/3733334637.py:5: DeprecationWarning: use options instead of chrome_options\n",
      "  chrome = webdriver.Chrome(ChromeDriverManager().install(), chrome_options=options)\n"
     ]
    },
    {
     "name": "stdout",
     "output_type": "stream",
     "text": [
      "M : (670, 6)\n"
     ]
    },
    {
     "name": "stderr",
     "output_type": "stream",
     "text": [
      "/var/folders/xh/d5hq3zgj0w7c6h9m2fmmx1gw0000gn/T/ipykernel_21445/3733334637.py:5: DeprecationWarning: executable_path has been deprecated, please pass in a Service object\n",
      "  chrome = webdriver.Chrome(ChromeDriverManager().install(), chrome_options=options)\n",
      "/var/folders/xh/d5hq3zgj0w7c6h9m2fmmx1gw0000gn/T/ipykernel_21445/3733334637.py:5: DeprecationWarning: use options instead of chrome_options\n",
      "  chrome = webdriver.Chrome(ChromeDriverManager().install(), chrome_options=options)\n"
     ]
    },
    {
     "name": "stdout",
     "output_type": "stream",
     "text": [
      "N : (349, 6)\n"
     ]
    },
    {
     "name": "stderr",
     "output_type": "stream",
     "text": [
      "/var/folders/xh/d5hq3zgj0w7c6h9m2fmmx1gw0000gn/T/ipykernel_21445/3733334637.py:5: DeprecationWarning: executable_path has been deprecated, please pass in a Service object\n",
      "  chrome = webdriver.Chrome(ChromeDriverManager().install(), chrome_options=options)\n",
      "/var/folders/xh/d5hq3zgj0w7c6h9m2fmmx1gw0000gn/T/ipykernel_21445/3733334637.py:5: DeprecationWarning: use options instead of chrome_options\n",
      "  chrome = webdriver.Chrome(ChromeDriverManager().install(), chrome_options=options)\n"
     ]
    },
    {
     "name": "stdout",
     "output_type": "stream",
     "text": [
      "O : (332, 6)\n"
     ]
    },
    {
     "name": "stderr",
     "output_type": "stream",
     "text": [
      "/var/folders/xh/d5hq3zgj0w7c6h9m2fmmx1gw0000gn/T/ipykernel_21445/3733334637.py:5: DeprecationWarning: executable_path has been deprecated, please pass in a Service object\n",
      "  chrome = webdriver.Chrome(ChromeDriverManager().install(), chrome_options=options)\n",
      "/var/folders/xh/d5hq3zgj0w7c6h9m2fmmx1gw0000gn/T/ipykernel_21445/3733334637.py:5: DeprecationWarning: use options instead of chrome_options\n",
      "  chrome = webdriver.Chrome(ChromeDriverManager().install(), chrome_options=options)\n"
     ]
    },
    {
     "name": "stdout",
     "output_type": "stream",
     "text": [
      "P : (505, 6)\n"
     ]
    },
    {
     "name": "stderr",
     "output_type": "stream",
     "text": [
      "/var/folders/xh/d5hq3zgj0w7c6h9m2fmmx1gw0000gn/T/ipykernel_21445/3733334637.py:5: DeprecationWarning: executable_path has been deprecated, please pass in a Service object\n",
      "  chrome = webdriver.Chrome(ChromeDriverManager().install(), chrome_options=options)\n",
      "/var/folders/xh/d5hq3zgj0w7c6h9m2fmmx1gw0000gn/T/ipykernel_21445/3733334637.py:5: DeprecationWarning: use options instead of chrome_options\n",
      "  chrome = webdriver.Chrome(ChromeDriverManager().install(), chrome_options=options)\n"
     ]
    },
    {
     "name": "stdout",
     "output_type": "stream",
     "text": [
      "Q : (31, 6)\n"
     ]
    },
    {
     "name": "stderr",
     "output_type": "stream",
     "text": [
      "/var/folders/xh/d5hq3zgj0w7c6h9m2fmmx1gw0000gn/T/ipykernel_21445/3733334637.py:5: DeprecationWarning: executable_path has been deprecated, please pass in a Service object\n",
      "  chrome = webdriver.Chrome(ChromeDriverManager().install(), chrome_options=options)\n",
      "/var/folders/xh/d5hq3zgj0w7c6h9m2fmmx1gw0000gn/T/ipykernel_21445/3733334637.py:5: DeprecationWarning: use options instead of chrome_options\n",
      "  chrome = webdriver.Chrome(ChromeDriverManager().install(), chrome_options=options)\n"
     ]
    },
    {
     "name": "stdout",
     "output_type": "stream",
     "text": [
      "R : (362, 6)\n"
     ]
    },
    {
     "name": "stderr",
     "output_type": "stream",
     "text": [
      "/var/folders/xh/d5hq3zgj0w7c6h9m2fmmx1gw0000gn/T/ipykernel_21445/3733334637.py:5: DeprecationWarning: executable_path has been deprecated, please pass in a Service object\n",
      "  chrome = webdriver.Chrome(ChromeDriverManager().install(), chrome_options=options)\n",
      "/var/folders/xh/d5hq3zgj0w7c6h9m2fmmx1gw0000gn/T/ipykernel_21445/3733334637.py:5: DeprecationWarning: use options instead of chrome_options\n",
      "  chrome = webdriver.Chrome(ChromeDriverManager().install(), chrome_options=options)\n"
     ]
    },
    {
     "name": "stdout",
     "output_type": "stream",
     "text": [
      "S : (647, 4)\n"
     ]
    },
    {
     "name": "stderr",
     "output_type": "stream",
     "text": [
      "/var/folders/xh/d5hq3zgj0w7c6h9m2fmmx1gw0000gn/T/ipykernel_21445/3733334637.py:5: DeprecationWarning: executable_path has been deprecated, please pass in a Service object\n",
      "  chrome = webdriver.Chrome(ChromeDriverManager().install(), chrome_options=options)\n",
      "/var/folders/xh/d5hq3zgj0w7c6h9m2fmmx1gw0000gn/T/ipykernel_21445/3733334637.py:5: DeprecationWarning: use options instead of chrome_options\n",
      "  chrome = webdriver.Chrome(ChromeDriverManager().install(), chrome_options=options)\n"
     ]
    },
    {
     "name": "stdout",
     "output_type": "stream",
     "text": [
      "T : (530, 4)\n"
     ]
    },
    {
     "name": "stderr",
     "output_type": "stream",
     "text": [
      "/var/folders/xh/d5hq3zgj0w7c6h9m2fmmx1gw0000gn/T/ipykernel_21445/3733334637.py:5: DeprecationWarning: executable_path has been deprecated, please pass in a Service object\n",
      "  chrome = webdriver.Chrome(ChromeDriverManager().install(), chrome_options=options)\n",
      "/var/folders/xh/d5hq3zgj0w7c6h9m2fmmx1gw0000gn/T/ipykernel_21445/3733334637.py:5: DeprecationWarning: use options instead of chrome_options\n",
      "  chrome = webdriver.Chrome(ChromeDriverManager().install(), chrome_options=options)\n"
     ]
    },
    {
     "name": "stdout",
     "output_type": "stream",
     "text": [
      "U : (222, 4)\n"
     ]
    },
    {
     "name": "stderr",
     "output_type": "stream",
     "text": [
      "/var/folders/xh/d5hq3zgj0w7c6h9m2fmmx1gw0000gn/T/ipykernel_21445/3733334637.py:5: DeprecationWarning: executable_path has been deprecated, please pass in a Service object\n",
      "  chrome = webdriver.Chrome(ChromeDriverManager().install(), chrome_options=options)\n",
      "/var/folders/xh/d5hq3zgj0w7c6h9m2fmmx1gw0000gn/T/ipykernel_21445/3733334637.py:5: DeprecationWarning: use options instead of chrome_options\n",
      "  chrome = webdriver.Chrome(ChromeDriverManager().install(), chrome_options=options)\n"
     ]
    },
    {
     "name": "stdout",
     "output_type": "stream",
     "text": [
      "V : (205, 4)\n"
     ]
    },
    {
     "name": "stderr",
     "output_type": "stream",
     "text": [
      "/var/folders/xh/d5hq3zgj0w7c6h9m2fmmx1gw0000gn/T/ipykernel_21445/3733334637.py:5: DeprecationWarning: executable_path has been deprecated, please pass in a Service object\n",
      "  chrome = webdriver.Chrome(ChromeDriverManager().install(), chrome_options=options)\n",
      "/var/folders/xh/d5hq3zgj0w7c6h9m2fmmx1gw0000gn/T/ipykernel_21445/3733334637.py:5: DeprecationWarning: use options instead of chrome_options\n",
      "  chrome = webdriver.Chrome(ChromeDriverManager().install(), chrome_options=options)\n"
     ]
    },
    {
     "name": "stdout",
     "output_type": "stream",
     "text": [
      "W : (258, 4)\n"
     ]
    },
    {
     "name": "stderr",
     "output_type": "stream",
     "text": [
      "/var/folders/xh/d5hq3zgj0w7c6h9m2fmmx1gw0000gn/T/ipykernel_21445/3733334637.py:5: DeprecationWarning: executable_path has been deprecated, please pass in a Service object\n",
      "  chrome = webdriver.Chrome(ChromeDriverManager().install(), chrome_options=options)\n",
      "/var/folders/xh/d5hq3zgj0w7c6h9m2fmmx1gw0000gn/T/ipykernel_21445/3733334637.py:5: DeprecationWarning: use options instead of chrome_options\n",
      "  chrome = webdriver.Chrome(ChromeDriverManager().install(), chrome_options=options)\n"
     ]
    },
    {
     "name": "stdout",
     "output_type": "stream",
     "text": [
      "X : (116, 4)\n"
     ]
    },
    {
     "name": "stderr",
     "output_type": "stream",
     "text": [
      "/var/folders/xh/d5hq3zgj0w7c6h9m2fmmx1gw0000gn/T/ipykernel_21445/3733334637.py:5: DeprecationWarning: executable_path has been deprecated, please pass in a Service object\n",
      "  chrome = webdriver.Chrome(ChromeDriverManager().install(), chrome_options=options)\n",
      "/var/folders/xh/d5hq3zgj0w7c6h9m2fmmx1gw0000gn/T/ipykernel_21445/3733334637.py:5: DeprecationWarning: use options instead of chrome_options\n",
      "  chrome = webdriver.Chrome(ChromeDriverManager().install(), chrome_options=options)\n"
     ]
    },
    {
     "name": "stdout",
     "output_type": "stream",
     "text": [
      "Y : (480, 4)\n"
     ]
    },
    {
     "name": "stderr",
     "output_type": "stream",
     "text": [
      "/var/folders/xh/d5hq3zgj0w7c6h9m2fmmx1gw0000gn/T/ipykernel_21445/3733334637.py:5: DeprecationWarning: executable_path has been deprecated, please pass in a Service object\n",
      "  chrome = webdriver.Chrome(ChromeDriverManager().install(), chrome_options=options)\n",
      "/var/folders/xh/d5hq3zgj0w7c6h9m2fmmx1gw0000gn/T/ipykernel_21445/3733334637.py:5: DeprecationWarning: use options instead of chrome_options\n",
      "  chrome = webdriver.Chrome(ChromeDriverManager().install(), chrome_options=options)\n"
     ]
    },
    {
     "name": "stdout",
     "output_type": "stream",
     "text": [
      "Z : (143, 4)\n",
      "DONE\n"
     ]
    }
   ],
   "source": [
    "arr = ['A','B','C','D','E','F','G','H','I','J','K','L','M','N','O','P','Q','R','S','T','U','V','W','X','Y','Z']\n",
    "# arr2 = ['A','B']\n",
    "_df = pd.DataFrame()\n",
    "for i in arr:\n",
    "    chrome = webdriver.Chrome(ChromeDriverManager().install(), chrome_options=options)\n",
    "    url = 'https://en.wikipedia.org/wiki/List_of_airports_by_IATA_airport_code:_' + i\n",
    "    chrome.get(url)\n",
    "    time.sleep(1)\n",
    "    html = chrome.page_source\n",
    "    table = pd.read_html(html, header=0)\n",
    "    df = table[0].loc[1:,:]\n",
    "    print(i, \":\" , df.shape)\n",
    "    _df = pd.concat([_df, df], axis=0)\n",
    "\n",
    "print('DONE')"
   ]
  },
  {
   "cell_type": "code",
   "execution_count": 240,
   "metadata": {},
   "outputs": [],
   "source": [
    "_df = _df.reset_index().iloc[:, 1:4]\n",
    "for i in range(_df.shape[0]):\n",
    "    if len(_df[\"Airport\\xa0name\"][i]) == 4:\n",
    "        _df = _df.drop(i)\n",
    "_df = _df.reset_index()"
   ]
  },
  {
   "cell_type": "code",
   "execution_count": 245,
   "metadata": {},
   "outputs": [
    {
     "data": {
      "text/plain": [
       "(9070, 3)"
      ]
     },
     "execution_count": 245,
     "metadata": {},
     "output_type": "execute_result"
    }
   ],
   "source": [
    "_df.shape"
   ]
  },
  {
   "cell_type": "code",
   "execution_count": 242,
   "metadata": {},
   "outputs": [
    {
     "name": "stderr",
     "output_type": "stream",
     "text": [
      "/var/folders/xh/d5hq3zgj0w7c6h9m2fmmx1gw0000gn/T/ipykernel_21445/1512020428.py:3: SettingWithCopyWarning: \n",
      "A value is trying to be set on a copy of a slice from a DataFrame\n",
      "\n",
      "See the caveats in the documentation: https://pandas.pydata.org/pandas-docs/stable/user_guide/indexing.html#returning-a-view-versus-a-copy\n",
      "  _df[\"IATA\"][i] = _df[\"IATA\"][i].split('[')[0]\n"
     ]
    }
   ],
   "source": [
    "for i in range(_df.shape[0]):\n",
    "    if len(_df[\"IATA\"][i]) != 3:\n",
    "        _df[\"IATA\"][i] = _df[\"IATA\"][i].split('[')[0]"
   ]
  },
  {
   "cell_type": "code",
   "execution_count": 243,
   "metadata": {},
   "outputs": [],
   "source": [
    "_df = _df.iloc[:, 1:]"
   ]
  },
  {
   "cell_type": "code",
   "execution_count": 244,
   "metadata": {},
   "outputs": [],
   "source": [
    "_df.to_csv('result.csv', header=False)"
   ]
  },
  {
   "cell_type": "code",
   "execution_count": null,
   "metadata": {},
   "outputs": [],
   "source": []
  }
 ],
 "metadata": {
  "kernelspec": {
   "display_name": "Python 3.10.6 ('iata': venv)",
   "language": "python",
   "name": "python3"
  },
  "language_info": {
   "codemirror_mode": {
    "name": "ipython",
    "version": 3
   },
   "file_extension": ".py",
   "mimetype": "text/x-python",
   "name": "python",
   "nbconvert_exporter": "python",
   "pygments_lexer": "ipython3",
   "version": "3.10.6"
  },
  "orig_nbformat": 4,
  "vscode": {
   "interpreter": {
    "hash": "c1d8760d23e217e6d8d75ab2089092e94a6bbb1758bd5dee536c19630e201279"
   }
  }
 },
 "nbformat": 4,
 "nbformat_minor": 2
}
